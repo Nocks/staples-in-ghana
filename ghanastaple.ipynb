{
 "cells": [
  {
   "cell_type": "markdown",
   "metadata": {},
   "source": [
    "# The Landscape of the Major Food Staples in Ghana"
   ]
  },
  {
   "cell_type": "markdown",
   "metadata": {},
   "source": [
    "The dataset used in this project is a CSV file of the Global Food Prices Database by WFP - World Food Programme."
   ]
  },
  {
   "cell_type": "code",
   "execution_count": 6,
   "metadata": {
    "collapsed": true
   },
   "outputs": [],
   "source": [
    "# Open the file and read its content.\n",
    "raw_data = open('WFPVAM_FoodPrices_24-01-2017.csv', 'r').read()"
   ]
  },
  {
   "cell_type": "code",
   "execution_count": 7,
   "metadata": {
    "collapsed": true
   },
   "outputs": [],
   "source": [
    "# Split the raw_data on every newline.\n",
    "raw_data = raw_data.split('\\n')\n",
    "# Take of the headers\n",
    "raw_data_no_header = raw_data[1:]"
   ]
  },
  {
   "cell_type": "code",
   "execution_count": 8,
   "metadata": {
    "collapsed": true
   },
   "outputs": [],
   "source": [
    "# Make a list of lists of the raw_data_no_header\n",
    "staples_data = []\n",
    "for food_info in raw_data_no_header:\n",
    "    info = food_info.split(',')\n",
    "    staples_data.append(info)"
   ]
  },
  {
   "cell_type": "code",
   "execution_count": 9,
   "metadata": {
    "collapsed": true
   },
   "outputs": [],
   "source": [
    "def load_data_by_country(country):\n",
    "    \"\"\"Fetch data based on a specific country\"\"\"\n",
    "    country_data = []\n",
    "    for info in staples_data:\n",
    "        if country in info:\n",
    "            country_data.append(info)\n",
    "    return(country_data)"
   ]
  },
  {
   "cell_type": "code",
   "execution_count": 10,
   "metadata": {
    "collapsed": true
   },
   "outputs": [],
   "source": [
    "# Fetch all data on Ghana\n",
    "ghana_food_stapes = load_data_by_country(country=\"Ghana\")"
   ]
  },
  {
   "cell_type": "code",
   "execution_count": 11,
   "metadata": {
    "collapsed": true
   },
   "outputs": [],
   "source": [
    "# Regions where there are market activities\n",
    "regions = []\n",
    "for info in ghana_food_stapes:\n",
    "    current_region = info[3]\n",
    "    if current_region not in regions:\n",
    "        regions.append(current_region)"
   ]
  },
  {
   "cell_type": "markdown",
   "metadata": {},
   "source": [
    "### The regions where there are market activities - alphabetical order:"
   ]
  },
  {
   "cell_type": "code",
   "execution_count": 13,
   "metadata": {
    "collapsed": false
   },
   "outputs": [
    {
     "name": "stdout",
     "output_type": "stream",
     "text": [
      "Ashanti Region\n",
      "Brong Ahafo Region\n",
      "Central Region\n",
      "Eastern Region\n",
      "Greater Accra Region\n",
      "Northern Region\n",
      "Upper East Region\n",
      "Upper West Region\n",
      "Volta Region\n",
      "Western Region\n"
     ]
    }
   ],
   "source": [
    "for region in sorted(regions):\n",
    "    print(\"{} Region\".format(region))"
   ]
  },
  {
   "cell_type": "code",
   "execution_count": 16,
   "metadata": {
    "collapsed": true
   },
   "outputs": [],
   "source": [
    "# Market locations across the country\n",
    "markets = []\n",
    "for info in ghana_food_stapes:\n",
    "    current_market = info[5]\n",
    "    if current_market not in markets:\n",
    "        markets.append(current_market)"
   ]
  },
  {
   "cell_type": "code",
   "execution_count": 20,
   "metadata": {
    "collapsed": false
   },
   "outputs": [],
   "source": [
    "# Markets per Regions\n",
    "markets_in_regions = {}\n",
    "for region in regions:\n",
    "    current_market = []\n",
    "    for market in markets:\n",
    "        for info in ghana_food_stapes:\n",
    "            if region == info[3] and market == info[5]:\n",
    "                if market not in current_market:\n",
    "                    current_market.append(market)\n",
    "                markets_in_regions.update({region: current_market})\n"
   ]
  },
  {
   "cell_type": "markdown",
   "metadata": {},
   "source": [
    "### List of market locations per region"
   ]
  },
  {
   "cell_type": "code",
   "execution_count": 24,
   "metadata": {
    "collapsed": false
   },
   "outputs": [
    {
     "name": "stdout",
     "output_type": "stream",
     "text": [
      "\n",
      "ASHANTI REGION\n",
      " 3 Market Locations:\n",
      "\tEjura\n",
      "\tKumasi\n",
      "\tObuasi\n",
      "\n",
      "BRONG AHAFO REGION\n",
      " 2 Market Locations:\n",
      "\tSunyani\n",
      "\tTechiman\n",
      "\n",
      "CENTRAL REGION\n",
      " 2 Market Locations:\n",
      "\tCape Coast\n",
      "\tMankessim\n",
      "\n",
      "EASTERN REGION\n",
      " 1 Market Location:\n",
      "\tKoforidua\n",
      "\n",
      "GREATER ACCRA REGION\n",
      " 2 Market Locations:\n",
      "\tAccra\n",
      "\tTema\n",
      "\n",
      "NORTHERN REGION\n",
      " 1 Market Location:\n",
      "\tTamale\n",
      "\n",
      "UPPER EAST REGION\n",
      " 1 Market Location:\n",
      "\tBolga\n",
      "\n",
      "UPPER WEST REGION\n",
      " 1 Market Location:\n",
      "\tWa\n",
      "\n",
      "VOLTA REGION\n",
      " 1 Market Location:\n",
      "\tHo\n",
      "\n",
      "WESTERN REGION\n",
      " 1 Market Location:\n",
      "\tSekondi/Takoradi\n"
     ]
    }
   ],
   "source": [
    "# Loop through the markets_in_regions dictionary\n",
    "for region, markets in sorted(markets_in_regions.items()):\n",
    "    print(\"\\n{} REGION\".format(region.upper()))\n",
    "    if len(markets) > 1:\n",
    "        # If market more than 1 make location plural\n",
    "        print(\" {} Market Locations:\".format(len(markets)))\n",
    "    elif len(markets) == 1:\n",
    "        # If only 1 market, make location singular\n",
    "        print(\" {} Market Location:\".format(len(markets)))\n",
    "    for market in sorted(markets):\n",
    "        print(\"\\t{}\".format(market))"
   ]
  },
  {
   "cell_type": "markdown",
   "metadata": {},
   "source": [
    "### The main staples in Ghana"
   ]
  },
  {
   "cell_type": "code",
   "execution_count": 26,
   "metadata": {
    "collapsed": false
   },
   "outputs": [
    {
     "name": "stdout",
     "output_type": "stream",
     "text": [
      "Cassava\n",
      "Maize\n",
      "Plantains (apentu)\n",
      "Rice (imported)\n",
      "Rice (local)\n",
      "Yam\n"
     ]
    }
   ],
   "source": [
    "staples = []\n",
    "for info in ghana_food_stapes:\n",
    "    current_staple = info[7]\n",
    "    if current_staple not in staples:\n",
    "        staples.append(current_staple)\n",
    "\n",
    "for staple in sorted(staples):\n",
    "    print(staple)"
   ]
  },
  {
   "cell_type": "code",
   "execution_count": null,
   "metadata": {
    "collapsed": true
   },
   "outputs": [],
   "source": []
  }
 ],
 "metadata": {
  "kernelspec": {
   "display_name": "Python 3",
   "language": "python",
   "name": "python3"
  },
  "language_info": {
   "codemirror_mode": {
    "name": "ipython",
    "version": 3
   },
   "file_extension": ".py",
   "mimetype": "text/x-python",
   "name": "python",
   "nbconvert_exporter": "python",
   "pygments_lexer": "ipython3",
   "version": "3.6.0"
  }
 },
 "nbformat": 4,
 "nbformat_minor": 2
}
